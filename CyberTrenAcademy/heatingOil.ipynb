{
 "cells": [
  {
   "cell_type": "code",
   "execution_count": 2,
   "metadata": {},
   "outputs": [],
   "source": [
    "import pandas as pd\n",
    "import numpy as np\n",
    "from pandas import Series,DataFrame"
   ]
  },
  {
   "cell_type": "code",
   "execution_count": 3,
   "metadata": {},
   "outputs": [],
   "source": [
    "Load_Train = pd.read_csv('heatingOilTrainingset.csv')"
   ]
  },
  {
   "cell_type": "code",
   "execution_count": 4,
   "metadata": {},
   "outputs": [
    {
     "data": {
      "text/html": [
       "<div>\n",
       "<style scoped>\n",
       "    .dataframe tbody tr th:only-of-type {\n",
       "        vertical-align: middle;\n",
       "    }\n",
       "\n",
       "    .dataframe tbody tr th {\n",
       "        vertical-align: top;\n",
       "    }\n",
       "\n",
       "    .dataframe thead th {\n",
       "        text-align: right;\n",
       "    }\n",
       "</style>\n",
       "<table border=\"1\" class=\"dataframe\">\n",
       "  <thead>\n",
       "    <tr style=\"text-align: right;\">\n",
       "      <th></th>\n",
       "      <th>Insulation</th>\n",
       "      <th>Temperature</th>\n",
       "      <th>Heating_Oil</th>\n",
       "      <th>Num_Occupants</th>\n",
       "      <th>Avg_Age</th>\n",
       "      <th>Home_Size</th>\n",
       "    </tr>\n",
       "  </thead>\n",
       "  <tbody>\n",
       "    <tr>\n",
       "      <th>0</th>\n",
       "      <td>6</td>\n",
       "      <td>74</td>\n",
       "      <td>132</td>\n",
       "      <td>4</td>\n",
       "      <td>23.8</td>\n",
       "      <td>4</td>\n",
       "    </tr>\n",
       "    <tr>\n",
       "      <th>1</th>\n",
       "      <td>10</td>\n",
       "      <td>43</td>\n",
       "      <td>263</td>\n",
       "      <td>4</td>\n",
       "      <td>56.7</td>\n",
       "      <td>4</td>\n",
       "    </tr>\n",
       "    <tr>\n",
       "      <th>2</th>\n",
       "      <td>3</td>\n",
       "      <td>81</td>\n",
       "      <td>145</td>\n",
       "      <td>2</td>\n",
       "      <td>28.0</td>\n",
       "      <td>6</td>\n",
       "    </tr>\n",
       "    <tr>\n",
       "      <th>3</th>\n",
       "      <td>9</td>\n",
       "      <td>50</td>\n",
       "      <td>196</td>\n",
       "      <td>4</td>\n",
       "      <td>45.1</td>\n",
       "      <td>3</td>\n",
       "    </tr>\n",
       "    <tr>\n",
       "      <th>4</th>\n",
       "      <td>2</td>\n",
       "      <td>80</td>\n",
       "      <td>131</td>\n",
       "      <td>5</td>\n",
       "      <td>20.8</td>\n",
       "      <td>2</td>\n",
       "    </tr>\n",
       "    <tr>\n",
       "      <th>5</th>\n",
       "      <td>5</td>\n",
       "      <td>76</td>\n",
       "      <td>129</td>\n",
       "      <td>3</td>\n",
       "      <td>21.5</td>\n",
       "      <td>3</td>\n",
       "    </tr>\n",
       "    <tr>\n",
       "      <th>6</th>\n",
       "      <td>5</td>\n",
       "      <td>72</td>\n",
       "      <td>131</td>\n",
       "      <td>4</td>\n",
       "      <td>23.5</td>\n",
       "      <td>3</td>\n",
       "    </tr>\n",
       "    <tr>\n",
       "      <th>7</th>\n",
       "      <td>6</td>\n",
       "      <td>88</td>\n",
       "      <td>161</td>\n",
       "      <td>2</td>\n",
       "      <td>38.2</td>\n",
       "      <td>6</td>\n",
       "    </tr>\n",
       "    <tr>\n",
       "      <th>8</th>\n",
       "      <td>5</td>\n",
       "      <td>77</td>\n",
       "      <td>184</td>\n",
       "      <td>3</td>\n",
       "      <td>42.5</td>\n",
       "      <td>3</td>\n",
       "    </tr>\n",
       "    <tr>\n",
       "      <th>9</th>\n",
       "      <td>10</td>\n",
       "      <td>42</td>\n",
       "      <td>225</td>\n",
       "      <td>3</td>\n",
       "      <td>51.1</td>\n",
       "      <td>1</td>\n",
       "    </tr>\n",
       "  </tbody>\n",
       "</table>\n",
       "</div>"
      ],
      "text/plain": [
       "   Insulation  Temperature  Heating_Oil  Num_Occupants  Avg_Age  Home_Size\n",
       "0           6           74          132              4     23.8          4\n",
       "1          10           43          263              4     56.7          4\n",
       "2           3           81          145              2     28.0          6\n",
       "3           9           50          196              4     45.1          3\n",
       "4           2           80          131              5     20.8          2\n",
       "5           5           76          129              3     21.5          3\n",
       "6           5           72          131              4     23.5          3\n",
       "7           6           88          161              2     38.2          6\n",
       "8           5           77          184              3     42.5          3\n",
       "9          10           42          225              3     51.1          1"
      ]
     },
     "execution_count": 4,
     "metadata": {},
     "output_type": "execute_result"
    }
   ],
   "source": [
    "Load_Train.head(10)"
   ]
  },
  {
   "cell_type": "code",
   "execution_count": 5,
   "metadata": {},
   "outputs": [
    {
     "name": "stdout",
     "output_type": "stream",
     "text": [
      "<class 'pandas.core.frame.DataFrame'>\n",
      "RangeIndex: 1218 entries, 0 to 1217\n",
      "Data columns (total 6 columns):\n",
      " #   Column         Non-Null Count  Dtype  \n",
      "---  ------         --------------  -----  \n",
      " 0   Insulation     1218 non-null   int64  \n",
      " 1   Temperature    1218 non-null   int64  \n",
      " 2   Heating_Oil    1218 non-null   int64  \n",
      " 3   Num_Occupants  1218 non-null   int64  \n",
      " 4   Avg_Age        1218 non-null   float64\n",
      " 5   Home_Size      1218 non-null   int64  \n",
      "dtypes: float64(1), int64(5)\n",
      "memory usage: 57.2 KB\n"
     ]
    }
   ],
   "source": [
    "Load_Train.info()"
   ]
  },
  {
   "cell_type": "markdown",
   "metadata": {},
   "source": [
    "# Data Preparation"
   ]
  },
  {
   "cell_type": "code",
   "execution_count": 7,
   "metadata": {},
   "outputs": [],
   "source": [
    "df_train = pd.DataFrame(Load_Train)"
   ]
  },
  {
   "cell_type": "code",
   "execution_count": 9,
   "metadata": {},
   "outputs": [],
   "source": [
    "age = df_train['Avg_Age'].astype('int')"
   ]
  },
  {
   "cell_type": "code",
   "execution_count": 10,
   "metadata": {},
   "outputs": [
    {
     "data": {
      "text/html": [
       "<div>\n",
       "<style scoped>\n",
       "    .dataframe tbody tr th:only-of-type {\n",
       "        vertical-align: middle;\n",
       "    }\n",
       "\n",
       "    .dataframe tbody tr th {\n",
       "        vertical-align: top;\n",
       "    }\n",
       "\n",
       "    .dataframe thead th {\n",
       "        text-align: right;\n",
       "    }\n",
       "</style>\n",
       "<table border=\"1\" class=\"dataframe\">\n",
       "  <thead>\n",
       "    <tr style=\"text-align: right;\">\n",
       "      <th></th>\n",
       "      <th>Insulation</th>\n",
       "      <th>Temperature</th>\n",
       "      <th>Heating_Oil</th>\n",
       "      <th>Num_Occupants</th>\n",
       "      <th>Avg_Age</th>\n",
       "      <th>Home_Size</th>\n",
       "    </tr>\n",
       "  </thead>\n",
       "  <tbody>\n",
       "    <tr>\n",
       "      <th>0</th>\n",
       "      <td>6</td>\n",
       "      <td>74</td>\n",
       "      <td>132</td>\n",
       "      <td>4</td>\n",
       "      <td>23.8</td>\n",
       "      <td>4</td>\n",
       "    </tr>\n",
       "    <tr>\n",
       "      <th>1</th>\n",
       "      <td>10</td>\n",
       "      <td>43</td>\n",
       "      <td>263</td>\n",
       "      <td>4</td>\n",
       "      <td>56.7</td>\n",
       "      <td>4</td>\n",
       "    </tr>\n",
       "    <tr>\n",
       "      <th>2</th>\n",
       "      <td>3</td>\n",
       "      <td>81</td>\n",
       "      <td>145</td>\n",
       "      <td>2</td>\n",
       "      <td>28.0</td>\n",
       "      <td>6</td>\n",
       "    </tr>\n",
       "    <tr>\n",
       "      <th>3</th>\n",
       "      <td>9</td>\n",
       "      <td>50</td>\n",
       "      <td>196</td>\n",
       "      <td>4</td>\n",
       "      <td>45.1</td>\n",
       "      <td>3</td>\n",
       "    </tr>\n",
       "    <tr>\n",
       "      <th>4</th>\n",
       "      <td>2</td>\n",
       "      <td>80</td>\n",
       "      <td>131</td>\n",
       "      <td>5</td>\n",
       "      <td>20.8</td>\n",
       "      <td>2</td>\n",
       "    </tr>\n",
       "    <tr>\n",
       "      <th>...</th>\n",
       "      <td>...</td>\n",
       "      <td>...</td>\n",
       "      <td>...</td>\n",
       "      <td>...</td>\n",
       "      <td>...</td>\n",
       "      <td>...</td>\n",
       "    </tr>\n",
       "    <tr>\n",
       "      <th>1213</th>\n",
       "      <td>7</td>\n",
       "      <td>56</td>\n",
       "      <td>264</td>\n",
       "      <td>5</td>\n",
       "      <td>58.2</td>\n",
       "      <td>5</td>\n",
       "    </tr>\n",
       "    <tr>\n",
       "      <th>1214</th>\n",
       "      <td>5</td>\n",
       "      <td>78</td>\n",
       "      <td>129</td>\n",
       "      <td>1</td>\n",
       "      <td>22.5</td>\n",
       "      <td>1</td>\n",
       "    </tr>\n",
       "    <tr>\n",
       "      <th>1215</th>\n",
       "      <td>5</td>\n",
       "      <td>77</td>\n",
       "      <td>138</td>\n",
       "      <td>3</td>\n",
       "      <td>26.8</td>\n",
       "      <td>1</td>\n",
       "    </tr>\n",
       "    <tr>\n",
       "      <th>1216</th>\n",
       "      <td>3</td>\n",
       "      <td>89</td>\n",
       "      <td>156</td>\n",
       "      <td>2</td>\n",
       "      <td>34.0</td>\n",
       "      <td>2</td>\n",
       "    </tr>\n",
       "    <tr>\n",
       "      <th>1217</th>\n",
       "      <td>7</td>\n",
       "      <td>59</td>\n",
       "      <td>273</td>\n",
       "      <td>1</td>\n",
       "      <td>61.4</td>\n",
       "      <td>5</td>\n",
       "    </tr>\n",
       "  </tbody>\n",
       "</table>\n",
       "<p>1218 rows × 6 columns</p>\n",
       "</div>"
      ],
      "text/plain": [
       "      Insulation  Temperature  Heating_Oil  Num_Occupants  Avg_Age  Home_Size\n",
       "0              6           74          132              4     23.8          4\n",
       "1             10           43          263              4     56.7          4\n",
       "2              3           81          145              2     28.0          6\n",
       "3              9           50          196              4     45.1          3\n",
       "4              2           80          131              5     20.8          2\n",
       "...          ...          ...          ...            ...      ...        ...\n",
       "1213           7           56          264              5     58.2          5\n",
       "1214           5           78          129              1     22.5          1\n",
       "1215           5           77          138              3     26.8          1\n",
       "1216           3           89          156              2     34.0          2\n",
       "1217           7           59          273              1     61.4          5\n",
       "\n",
       "[1218 rows x 6 columns]"
      ]
     },
     "execution_count": 10,
     "metadata": {},
     "output_type": "execute_result"
    }
   ],
   "source": [
    "df_train"
   ]
  },
  {
   "cell_type": "code",
   "execution_count": 19,
   "metadata": {},
   "outputs": [],
   "source": [
    "df_train['Age'] = df_train['Avg_Age'].astype('int')"
   ]
  },
  {
   "cell_type": "code",
   "execution_count": 20,
   "metadata": {},
   "outputs": [
    {
     "data": {
      "text/html": [
       "<div>\n",
       "<style scoped>\n",
       "    .dataframe tbody tr th:only-of-type {\n",
       "        vertical-align: middle;\n",
       "    }\n",
       "\n",
       "    .dataframe tbody tr th {\n",
       "        vertical-align: top;\n",
       "    }\n",
       "\n",
       "    .dataframe thead th {\n",
       "        text-align: right;\n",
       "    }\n",
       "</style>\n",
       "<table border=\"1\" class=\"dataframe\">\n",
       "  <thead>\n",
       "    <tr style=\"text-align: right;\">\n",
       "      <th></th>\n",
       "      <th>Insulation</th>\n",
       "      <th>Temperature</th>\n",
       "      <th>Heating_Oil</th>\n",
       "      <th>Num_Occupants</th>\n",
       "      <th>Avg_Age</th>\n",
       "      <th>Home_Size</th>\n",
       "      <th>Age</th>\n",
       "    </tr>\n",
       "  </thead>\n",
       "  <tbody>\n",
       "    <tr>\n",
       "      <th>0</th>\n",
       "      <td>6</td>\n",
       "      <td>74</td>\n",
       "      <td>132</td>\n",
       "      <td>4</td>\n",
       "      <td>23.8</td>\n",
       "      <td>4</td>\n",
       "      <td>23</td>\n",
       "    </tr>\n",
       "    <tr>\n",
       "      <th>1</th>\n",
       "      <td>10</td>\n",
       "      <td>43</td>\n",
       "      <td>263</td>\n",
       "      <td>4</td>\n",
       "      <td>56.7</td>\n",
       "      <td>4</td>\n",
       "      <td>56</td>\n",
       "    </tr>\n",
       "    <tr>\n",
       "      <th>2</th>\n",
       "      <td>3</td>\n",
       "      <td>81</td>\n",
       "      <td>145</td>\n",
       "      <td>2</td>\n",
       "      <td>28.0</td>\n",
       "      <td>6</td>\n",
       "      <td>28</td>\n",
       "    </tr>\n",
       "    <tr>\n",
       "      <th>3</th>\n",
       "      <td>9</td>\n",
       "      <td>50</td>\n",
       "      <td>196</td>\n",
       "      <td>4</td>\n",
       "      <td>45.1</td>\n",
       "      <td>3</td>\n",
       "      <td>45</td>\n",
       "    </tr>\n",
       "    <tr>\n",
       "      <th>4</th>\n",
       "      <td>2</td>\n",
       "      <td>80</td>\n",
       "      <td>131</td>\n",
       "      <td>5</td>\n",
       "      <td>20.8</td>\n",
       "      <td>2</td>\n",
       "      <td>20</td>\n",
       "    </tr>\n",
       "    <tr>\n",
       "      <th>...</th>\n",
       "      <td>...</td>\n",
       "      <td>...</td>\n",
       "      <td>...</td>\n",
       "      <td>...</td>\n",
       "      <td>...</td>\n",
       "      <td>...</td>\n",
       "      <td>...</td>\n",
       "    </tr>\n",
       "    <tr>\n",
       "      <th>1213</th>\n",
       "      <td>7</td>\n",
       "      <td>56</td>\n",
       "      <td>264</td>\n",
       "      <td>5</td>\n",
       "      <td>58.2</td>\n",
       "      <td>5</td>\n",
       "      <td>58</td>\n",
       "    </tr>\n",
       "    <tr>\n",
       "      <th>1214</th>\n",
       "      <td>5</td>\n",
       "      <td>78</td>\n",
       "      <td>129</td>\n",
       "      <td>1</td>\n",
       "      <td>22.5</td>\n",
       "      <td>1</td>\n",
       "      <td>22</td>\n",
       "    </tr>\n",
       "    <tr>\n",
       "      <th>1215</th>\n",
       "      <td>5</td>\n",
       "      <td>77</td>\n",
       "      <td>138</td>\n",
       "      <td>3</td>\n",
       "      <td>26.8</td>\n",
       "      <td>1</td>\n",
       "      <td>26</td>\n",
       "    </tr>\n",
       "    <tr>\n",
       "      <th>1216</th>\n",
       "      <td>3</td>\n",
       "      <td>89</td>\n",
       "      <td>156</td>\n",
       "      <td>2</td>\n",
       "      <td>34.0</td>\n",
       "      <td>2</td>\n",
       "      <td>34</td>\n",
       "    </tr>\n",
       "    <tr>\n",
       "      <th>1217</th>\n",
       "      <td>7</td>\n",
       "      <td>59</td>\n",
       "      <td>273</td>\n",
       "      <td>1</td>\n",
       "      <td>61.4</td>\n",
       "      <td>5</td>\n",
       "      <td>61</td>\n",
       "    </tr>\n",
       "  </tbody>\n",
       "</table>\n",
       "<p>1218 rows × 7 columns</p>\n",
       "</div>"
      ],
      "text/plain": [
       "      Insulation  Temperature  Heating_Oil  Num_Occupants  Avg_Age  Home_Size  \\\n",
       "0              6           74          132              4     23.8          4   \n",
       "1             10           43          263              4     56.7          4   \n",
       "2              3           81          145              2     28.0          6   \n",
       "3              9           50          196              4     45.1          3   \n",
       "4              2           80          131              5     20.8          2   \n",
       "...          ...          ...          ...            ...      ...        ...   \n",
       "1213           7           56          264              5     58.2          5   \n",
       "1214           5           78          129              1     22.5          1   \n",
       "1215           5           77          138              3     26.8          1   \n",
       "1216           3           89          156              2     34.0          2   \n",
       "1217           7           59          273              1     61.4          5   \n",
       "\n",
       "      Age  \n",
       "0      23  \n",
       "1      56  \n",
       "2      28  \n",
       "3      45  \n",
       "4      20  \n",
       "...   ...  \n",
       "1213   58  \n",
       "1214   22  \n",
       "1215   26  \n",
       "1216   34  \n",
       "1217   61  \n",
       "\n",
       "[1218 rows x 7 columns]"
      ]
     },
     "execution_count": 20,
     "metadata": {},
     "output_type": "execute_result"
    }
   ],
   "source": [
    "df_train"
   ]
  },
  {
   "cell_type": "code",
   "execution_count": 13,
   "metadata": {},
   "outputs": [],
   "source": [
    "import matplotlib.pyplot as plt\n",
    "import seaborn as sns\n",
    "%matplotlib inline"
   ]
  },
  {
   "cell_type": "code",
   "execution_count": 14,
   "metadata": {},
   "outputs": [
    {
     "data": {
      "text/plain": [
       "<AxesSubplot:title={'center':'Pearson Correlation'}>"
      ]
     },
     "execution_count": 14,
     "metadata": {},
     "output_type": "execute_result"
    },
    {
     "data": {
      "image/png": "[encoded data removed]",
      "text/plain": [
       "<Figure size 720x720 with 2 Axes>"
      ]
     },
     "metadata": {
      "needs_background": "light"
     },
     "output_type": "display_data"
    }
   ],
   "source": [
    "f, ax = plt.subplots(figsize=(10, 10))\n",
    "plt.title('Pearson Correlation')\n",
    "\n",
    "\n",
    "#Mulai membuat \n",
    "sns.heatmap(df_train.astype(float).corr(), linewidths=0.25, vmax=1.0,square=True, cmap=\"BuPu\", linecolor='black', annot=True)\n"
   ]
  },
  {
   "cell_type": "markdown",
   "metadata": {},
   "source": [
    "# Data Modelling"
   ]
  },
  {
   "cell_type": "code",
   "execution_count": 15,
   "metadata": {},
   "outputs": [],
   "source": [
    "from sklearn.model_selection import train_test_split\n",
    "from sklearn.linear_model import LinearRegression\n",
    "from sklearn import metrics\n"
   ]
  },
  {
   "cell_type": "code",
   "execution_count": 61,
   "metadata": {},
   "outputs": [],
   "source": [
    "#X=df_train[['Temperature','Insulation','Num_Occupants','Age', 'Home_Size']]\n",
    "X=df_train[['Temperature','Insulation','Age', 'Num_Occupants']]\n",
    "# X=df_train[['Temperature','Insulation','Age']]"
   ]
  },
  {
   "cell_type": "code",
   "execution_count": 63,
   "metadata": {},
   "outputs": [],
   "source": [
    "Y=df_train['Heating_Oil']"
   ]
  },
  {
   "cell_type": "code",
   "execution_count": 64,
   "metadata": {},
   "outputs": [],
   "source": [
    "X_train, X_test, Y_train, Y_test = train_test_split(X, Y, test_size=0.3, random_state=0)"
   ]
  },
  {
   "cell_type": "code",
   "execution_count": 65,
   "metadata": {},
   "outputs": [
    {
     "data": {
      "text/plain": [
       "LinearRegression()"
      ]
     },
     "execution_count": 65,
     "metadata": {},
     "output_type": "execute_result"
    }
   ],
   "source": [
    "regressor = LinearRegression()\n",
    "regressor.fit(X_train, Y_train)"
   ]
  },
  {
   "cell_type": "code",
   "execution_count": 66,
   "metadata": {},
   "outputs": [
    {
     "name": "stdout",
     "output_type": "stream",
     "text": [
      "[-0.82868075  3.00973048  2.21777371 -0.39838817]\n"
     ]
    }
   ],
   "source": [
    "print(regressor.coef_)"
   ]
  },
  {
   "cell_type": "code",
   "execution_count": 67,
   "metadata": {},
   "outputs": [],
   "source": [
    "Y_pred = regressor.predict(X_test)"
   ]
  },
  {
   "cell_type": "code",
   "execution_count": 68,
   "metadata": {},
   "outputs": [],
   "source": [
    "df = pd.DataFrame({'Actual' : Y_test, 'Predicted' : Y_pred})"
   ]
  },
  {
   "cell_type": "code",
   "execution_count": 69,
   "metadata": {},
   "outputs": [
    {
     "data": {
      "text/html": [
       "<div>\n",
       "<style scoped>\n",
       "    .dataframe tbody tr th:only-of-type {\n",
       "        vertical-align: middle;\n",
       "    }\n",
       "\n",
       "    .dataframe tbody tr th {\n",
       "        vertical-align: top;\n",
       "    }\n",
       "\n",
       "    .dataframe thead th {\n",
       "        text-align: right;\n",
       "    }\n",
       "</style>\n",
       "<table border=\"1\" class=\"dataframe\">\n",
       "  <thead>\n",
       "    <tr style=\"text-align: right;\">\n",
       "      <th></th>\n",
       "      <th>Actual</th>\n",
       "      <th>Predicted</th>\n",
       "    </tr>\n",
       "  </thead>\n",
       "  <tbody>\n",
       "    <tr>\n",
       "      <th>1144</th>\n",
       "      <td>135</td>\n",
       "      <td>136.403745</td>\n",
       "    </tr>\n",
       "    <tr>\n",
       "      <th>990</th>\n",
       "      <td>131</td>\n",
       "      <td>127.057605</td>\n",
       "    </tr>\n",
       "    <tr>\n",
       "      <th>478</th>\n",
       "      <td>118</td>\n",
       "      <td>126.819853</td>\n",
       "    </tr>\n",
       "    <tr>\n",
       "      <th>161</th>\n",
       "      <td>264</td>\n",
       "      <td>259.106624</td>\n",
       "    </tr>\n",
       "    <tr>\n",
       "      <th>1153</th>\n",
       "      <td>127</td>\n",
       "      <td>129.486975</td>\n",
       "    </tr>\n",
       "    <tr>\n",
       "      <th>...</th>\n",
       "      <td>...</td>\n",
       "      <td>...</td>\n",
       "    </tr>\n",
       "    <tr>\n",
       "      <th>996</th>\n",
       "      <td>187</td>\n",
       "      <td>187.848545</td>\n",
       "    </tr>\n",
       "    <tr>\n",
       "      <th>528</th>\n",
       "      <td>185</td>\n",
       "      <td>207.805511</td>\n",
       "    </tr>\n",
       "    <tr>\n",
       "      <th>825</th>\n",
       "      <td>181</td>\n",
       "      <td>178.939834</td>\n",
       "    </tr>\n",
       "    <tr>\n",
       "      <th>483</th>\n",
       "      <td>255</td>\n",
       "      <td>249.829112</td>\n",
       "    </tr>\n",
       "    <tr>\n",
       "      <th>1092</th>\n",
       "      <td>185</td>\n",
       "      <td>218.492064</td>\n",
       "    </tr>\n",
       "  </tbody>\n",
       "</table>\n",
       "<p>366 rows × 2 columns</p>\n",
       "</div>"
      ],
      "text/plain": [
       "      Actual   Predicted\n",
       "1144     135  136.403745\n",
       "990      131  127.057605\n",
       "478      118  126.819853\n",
       "161      264  259.106624\n",
       "1153     127  129.486975\n",
       "...      ...         ...\n",
       "996      187  187.848545\n",
       "528      185  207.805511\n",
       "825      181  178.939834\n",
       "483      255  249.829112\n",
       "1092     185  218.492064\n",
       "\n",
       "[366 rows x 2 columns]"
      ]
     },
     "execution_count": 69,
     "metadata": {},
     "output_type": "execute_result"
    }
   ],
   "source": [
    "df"
   ]
  },
  {
   "cell_type": "code",
   "execution_count": 70,
   "metadata": {},
   "outputs": [
    {
     "name": "stdout",
     "output_type": "stream",
     "text": [
      "Mean Absolute Error :  15.716362178368335\n"
     ]
    }
   ],
   "source": [
    "print('Mean Absolute Error : ', metrics.mean_absolute_error(Y_test, Y_pred))"
   ]
  },
  {
   "cell_type": "markdown",
   "metadata": {},
   "source": [
    "# Machine Learning"
   ]
  },
  {
   "cell_type": "code",
   "execution_count": 71,
   "metadata": {},
   "outputs": [],
   "source": [
    "load_data_testing = pd.read_csv('heatingOilTestingSet.csv')"
   ]
  },
  {
   "cell_type": "code",
   "execution_count": 72,
   "metadata": {},
   "outputs": [],
   "source": [
    "df_data_testing = pd.DataFrame(load_data_testing)"
   ]
  },
  {
   "cell_type": "code",
   "execution_count": 73,
   "metadata": {},
   "outputs": [],
   "source": [
    "df_data_testing['age'] = df_data_testing['Avg_Age'].astype(int)"
   ]
  },
  {
   "cell_type": "code",
   "execution_count": 75,
   "metadata": {},
   "outputs": [],
   "source": [
    "df_test=df_data_testing[['Temperature','Insulation','age', 'Num_Occupants']]"
   ]
  },
  {
   "cell_type": "code",
   "execution_count": 77,
   "metadata": {},
   "outputs": [],
   "source": [
    "test_prediction = regressor.predict(df_test)"
   ]
  },
  {
   "cell_type": "code",
   "execution_count": 79,
   "metadata": {},
   "outputs": [],
   "source": [
    "heating_oil_predict = pd.DataFrame({'Heating_Oil_Prediction':test_prediction})"
   ]
  },
  {
   "cell_type": "code",
   "execution_count": 82,
   "metadata": {},
   "outputs": [],
   "source": [
    "df_predict = pd.concat([df_data_testing, heating_oil_predict], ignore_index=False, sort=False, axis=1)"
   ]
  },
  {
   "cell_type": "code",
   "execution_count": 81,
   "metadata": {},
   "outputs": [],
   "source": [
    "x=df_predict.to_excel('predicted_heasting_oil.xlsx', sheet_name='Sheet1')"
   ]
  }
 ],
 "metadata": {
  "kernelspec": {
   "display_name": "Python 3",
   "language": "python",
   "name": "python3"
  },
  "language_info": {
   "codemirror_mode": {
    "name": "ipython",
    "version": 3
   },
   "file_extension": ".py",
   "mimetype": "text/x-python",
   "name": "python",
   "nbconvert_exporter": "python",
   "pygments_lexer": "ipython3",
   "version": "3.8.5"
  }
 },
 "nbformat": 4,
 "nbformat_minor": 4
}
