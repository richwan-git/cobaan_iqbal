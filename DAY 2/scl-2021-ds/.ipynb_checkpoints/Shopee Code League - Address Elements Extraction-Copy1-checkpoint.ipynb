{
 "cells": [
  {
   "cell_type": "code",
   "execution_count": 12,
   "metadata": {},
   "outputs": [],
   "source": [
    "import pandas as pd\n",
    "import numpy as np\n",
    "from sklearn.pipeline import Pipeline\n",
    "from sklearn.datasets import make_classification"
   ]
  },
  {
   "cell_type": "code",
   "execution_count": 2,
   "metadata": {},
   "outputs": [],
   "source": [
    "file_path = 'train.csv'\n",
    "df = pd.read_csv(file_path)"
   ]
  },
  {
   "cell_type": "code",
   "execution_count": 15,
   "metadata": {
    "scrolled": true
   },
   "outputs": [
    {
     "data": {
      "text/html": [
       "<div>\n",
       "<style scoped>\n",
       "    .dataframe tbody tr th:only-of-type {\n",
       "        vertical-align: middle;\n",
       "    }\n",
       "\n",
       "    .dataframe tbody tr th {\n",
       "        vertical-align: top;\n",
       "    }\n",
       "\n",
       "    .dataframe thead th {\n",
       "        text-align: right;\n",
       "    }\n",
       "</style>\n",
       "<table border=\"1\" class=\"dataframe\">\n",
       "  <thead>\n",
       "    <tr style=\"text-align: right;\">\n",
       "      <th></th>\n",
       "      <th>id</th>\n",
       "      <th>raw_address</th>\n",
       "      <th>POI/street</th>\n",
       "    </tr>\n",
       "  </thead>\n",
       "  <tbody>\n",
       "    <tr>\n",
       "      <th>299900</th>\n",
       "      <td>299900</td>\n",
       "      <td>cluster arcadia village jl.boulevard raya gadi...</td>\n",
       "      <td>arcadia village/jl.boulevard raya gading serpong</td>\n",
       "    </tr>\n",
       "    <tr>\n",
       "      <th>299901</th>\n",
       "      <td>299901</td>\n",
       "      <td>pt. lasarez dina, mas al mujtaba duren sawit</td>\n",
       "      <td>pt. lasarez dinamika/mas al mujtaba</td>\n",
       "    </tr>\n",
       "    <tr>\n",
       "      <th>299902</th>\n",
       "      <td>299902</td>\n",
       "      <td>genteng gent sido, no 2 rt 2 6 60275 genteng</td>\n",
       "      <td>/gent sido</td>\n",
       "    </tr>\n",
       "    <tr>\n",
       "      <th>299903</th>\n",
       "      <td>299903</td>\n",
       "      <td>inti 67 babura sunggal</td>\n",
       "      <td>/inti</td>\n",
       "    </tr>\n",
       "    <tr>\n",
       "      <th>299904</th>\n",
       "      <td>299904</td>\n",
       "      <td>helvetia timur pem 94 medan helvetia</td>\n",
       "      <td>/pem</td>\n",
       "    </tr>\n",
       "    <tr>\n",
       "      <th>...</th>\n",
       "      <td>...</td>\n",
       "      <td>...</td>\n",
       "      <td>...</td>\n",
       "    </tr>\n",
       "    <tr>\n",
       "      <th>299995</th>\n",
       "      <td>299995</td>\n",
       "      <td>jend ahmad yani 331 kertasari ciamis</td>\n",
       "      <td>/jend ahmad yani</td>\n",
       "    </tr>\n",
       "    <tr>\n",
       "      <th>299996</th>\n",
       "      <td>299996</td>\n",
       "      <td>raya cila kko, cilandak timur kel.</td>\n",
       "      <td>/raya cila kko</td>\n",
       "    </tr>\n",
       "    <tr>\n",
       "      <th>299997</th>\n",
       "      <td>299997</td>\n",
       "      <td>tanjung gusta jl. yaya 2 no 17</td>\n",
       "      <td>/</td>\n",
       "    </tr>\n",
       "    <tr>\n",
       "      <th>299998</th>\n",
       "      <td>299998</td>\n",
       "      <td>jalan cipadu jaya taman asri gang bijaksana 3 ...</td>\n",
       "      <td>taman asri/</td>\n",
       "    </tr>\n",
       "    <tr>\n",
       "      <th>299999</th>\n",
       "      <td>299999</td>\n",
       "      <td>jaya maspion permata blok beryl b2  no.58</td>\n",
       "      <td>jaya maspion permata/</td>\n",
       "    </tr>\n",
       "  </tbody>\n",
       "</table>\n",
       "<p>100 rows × 3 columns</p>\n",
       "</div>"
      ],
      "text/plain": [
       "            id                                        raw_address  \\\n",
       "299900  299900  cluster arcadia village jl.boulevard raya gadi...   \n",
       "299901  299901       pt. lasarez dina, mas al mujtaba duren sawit   \n",
       "299902  299902       genteng gent sido, no 2 rt 2 6 60275 genteng   \n",
       "299903  299903                             inti 67 babura sunggal   \n",
       "299904  299904               helvetia timur pem 94 medan helvetia   \n",
       "...        ...                                                ...   \n",
       "299995  299995               jend ahmad yani 331 kertasari ciamis   \n",
       "299996  299996                 raya cila kko, cilandak timur kel.   \n",
       "299997  299997                     tanjung gusta jl. yaya 2 no 17   \n",
       "299998  299998  jalan cipadu jaya taman asri gang bijaksana 3 ...   \n",
       "299999  299999          jaya maspion permata blok beryl b2  no.58   \n",
       "\n",
       "                                              POI/street  \n",
       "299900  arcadia village/jl.boulevard raya gading serpong  \n",
       "299901               pt. lasarez dinamika/mas al mujtaba  \n",
       "299902                                        /gent sido  \n",
       "299903                                             /inti  \n",
       "299904                                              /pem  \n",
       "...                                                  ...  \n",
       "299995                                  /jend ahmad yani  \n",
       "299996                                    /raya cila kko  \n",
       "299997                                                 /  \n",
       "299998                                       taman asri/  \n",
       "299999                             jaya maspion permata/  \n",
       "\n",
       "[100 rows x 3 columns]"
      ]
     },
     "execution_count": 15,
     "metadata": {},
     "output_type": "execute_result"
    }
   ],
   "source": [
    "df.tail(100)"
   ]
  },
  {
   "cell_type": "code",
   "execution_count": 10,
   "metadata": {},
   "outputs": [
    {
     "data": {
      "text/plain": [
       "300000"
      ]
     },
     "execution_count": 10,
     "metadata": {},
     "output_type": "execute_result"
    }
   ],
   "source": [
    "df.index.size"
   ]
  },
  {
   "cell_type": "code",
   "execution_count": 4,
   "metadata": {},
   "outputs": [],
   "source": [
    "array_poi = []\n",
    "array_street = []\n",
    "array_poi_street = df['POI/street'].values.tolist()\n",
    "for value in array_poi_street:\n",
    "    array_poi.append(value.split(\"/\")[0])\n",
    "    array_street.append(value.split(\"/\")[1])\n",
    "array_raw_address = df['raw_address'].values.tolist()"
   ]
  },
  {
   "cell_type": "code",
   "execution_count": 6,
   "metadata": {},
   "outputs": [
    {
     "name": "stdout",
     "output_type": "stream",
     "text": [
      "\n",
      "gent sido\n",
      "genteng gent sido, no 2 rt 2 6 60275 genteng\n"
     ]
    }
   ],
   "source": [
    "i = 0\n",
    "for i"
   ]
  },
  {
   "cell_type": "code",
   "execution_count": 13,
   "metadata": {},
   "outputs": [],
   "source": [
    "file_path_test = 'test.csv'\n",
    "df_test = pd.read_csv(file_path_test)"
   ]
  },
  {
   "cell_type": "code",
   "execution_count": 14,
   "metadata": {},
   "outputs": [
    {
     "data": {
      "text/html": [
       "<div>\n",
       "<style scoped>\n",
       "    .dataframe tbody tr th:only-of-type {\n",
       "        vertical-align: middle;\n",
       "    }\n",
       "\n",
       "    .dataframe tbody tr th {\n",
       "        vertical-align: top;\n",
       "    }\n",
       "\n",
       "    .dataframe thead th {\n",
       "        text-align: right;\n",
       "    }\n",
       "</style>\n",
       "<table border=\"1\" class=\"dataframe\">\n",
       "  <thead>\n",
       "    <tr style=\"text-align: right;\">\n",
       "      <th></th>\n",
       "      <th>id</th>\n",
       "      <th>raw_address</th>\n",
       "    </tr>\n",
       "  </thead>\n",
       "  <tbody>\n",
       "    <tr>\n",
       "      <th>0</th>\n",
       "      <td>0</td>\n",
       "      <td>s. par 53 sidanegara 4 cilacap tengah</td>\n",
       "    </tr>\n",
       "    <tr>\n",
       "      <th>1</th>\n",
       "      <td>1</td>\n",
       "      <td>angg per, baloi indah kel. lubuk baja</td>\n",
       "    </tr>\n",
       "    <tr>\n",
       "      <th>2</th>\n",
       "      <td>2</td>\n",
       "      <td>asma laun, mand imog,</td>\n",
       "    </tr>\n",
       "    <tr>\n",
       "      <th>3</th>\n",
       "      <td>3</td>\n",
       "      <td>ud agung rej, raya nga sri wedari karanganyar</td>\n",
       "    </tr>\n",
       "    <tr>\n",
       "      <th>4</th>\n",
       "      <td>4</td>\n",
       "      <td>cut mutia, 35 baiturrahman</td>\n",
       "    </tr>\n",
       "  </tbody>\n",
       "</table>\n",
       "</div>"
      ],
      "text/plain": [
       "   id                                    raw_address\n",
       "0   0          s. par 53 sidanegara 4 cilacap tengah\n",
       "1   1          angg per, baloi indah kel. lubuk baja\n",
       "2   2                          asma laun, mand imog,\n",
       "3   3  ud agung rej, raya nga sri wedari karanganyar\n",
       "4   4                     cut mutia, 35 baiturrahman"
      ]
     },
     "execution_count": 14,
     "metadata": {},
     "output_type": "execute_result"
    }
   ],
   "source": [
    "df_test.head()"
   ]
  },
  {
   "cell_type": "code",
   "execution_count": null,
   "metadata": {},
   "outputs": [],
   "source": []
  }
 ],
 "metadata": {
  "kernelspec": {
   "display_name": "Python 3",
   "language": "python",
   "name": "python3"
  },
  "language_info": {
   "codemirror_mode": {
    "name": "ipython",
    "version": 3
   },
   "file_extension": ".py",
   "mimetype": "text/x-python",
   "name": "python",
   "nbconvert_exporter": "python",
   "pygments_lexer": "ipython3",
   "version": "3.8.5"
  }
 },
 "nbformat": 4,
 "nbformat_minor": 4
}
